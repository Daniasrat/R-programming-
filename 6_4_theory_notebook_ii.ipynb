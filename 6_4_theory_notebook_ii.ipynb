{
  "nbformat": 4,
  "nbformat_minor": 0,
  "metadata": {
    "colab": {
      "private_outputs": true,
      "provenance": [],
      "toc_visible": true,
      "include_colab_link": true
    },
    "kernelspec": {
      "name": "python3",
      "display_name": "Python 3"
    },
    "language_info": {
      "name": "python"
    }
  },
  "cells": [
    {
      "cell_type": "markdown",
      "metadata": {
        "id": "view-in-github",
        "colab_type": "text"
      },
      "source": [
        "<a href=\"https://colab.research.google.com/github/Daniasrat/R-programming-/blob/main/6_4_theory_notebook_ii.ipynb\" target=\"_parent\"><img src=\"https://colab.research.google.com/assets/colab-badge.svg\" alt=\"Open In Colab\"/></a>"
      ]
    },
    {
      "cell_type": "markdown",
      "source": [
        "## **Analysis of Marketing Campaign Impact on Client Volumes and Income**\n",
        "\n"
      ],
      "metadata": {
        "id": "t5vmx-_k4MG4"
      }
    },
    {
      "cell_type": "markdown",
      "source": [],
      "metadata": {
        "id": "rEKIRXpT-36Z"
      }
    },
    {
      "cell_type": "markdown",
      "source": [
        "**Objectives of the Marketing Campaign Impact Analysis Project**\n",
        "\n",
        "1.Evaluate the Effectiveness of Peer-Educators:\n",
        "\n",
        "2. Analyze the Role of the Website:\n",
        "\n",
        "3. Measure the Impact of the Facebook Campaign:\n",
        "\n",
        "\n"
      ],
      "metadata": {
        "id": "KbvV6zvo4XgE"
      }
    },
    {
      "cell_type": "code",
      "source": [
        "import pandas as pd\n",
        "import matplotlib.pyplot as plt\n",
        "import seaborn as sns"
      ],
      "metadata": {
        "id": "g7Faw_pM5Zvk"
      },
      "execution_count": null,
      "outputs": []
    },
    {
      "cell_type": "markdown",
      "source": [],
      "metadata": {
        "id": "1CKvxSD0gAzc"
      }
    },
    {
      "cell_type": "markdown",
      "source": [
        "# **Step 1: Load and Inspect the Data**"
      ],
      "metadata": {
        "id": "fuP6J3MdgH5m"
      }
    },
    {
      "cell_type": "markdown",
      "source": [
        "df = pd.read_csv('data_sex.csv')\n"
      ],
      "metadata": {
        "id": "2S7Oye6GAoQ1"
      }
    },
    {
      "cell_type": "code",
      "source": [
        "data = pd.read_csv('data_sex.csv') # Pass the filename as a string\n",
        "print(data.head())"
      ],
      "metadata": {
        "id": "YN2Fnn8Dewaz"
      },
      "execution_count": null,
      "outputs": []
    },
    {
      "cell_type": "code",
      "source": [
        "print(df.columns)"
      ],
      "metadata": {
        "id": "KelLEzklA0ju"
      },
      "execution_count": null,
      "outputs": []
    },
    {
      "cell_type": "markdown",
      "source": [],
      "metadata": {
        "id": "ryB1fRKdd1rz"
      }
    },
    {
      "cell_type": "markdown",
      "source": [
        "# **Step 2: Data Cleaning**"
      ],
      "metadata": {
        "id": "_n4Rv4Rtf4GE"
      }
    },
    {
      "cell_type": "code",
      "source": [
        "# Convert 'Date of visit' to datetime\n",
        "data['Date of visit'] = pd.to_datetime(data['Date of visit'], format='%m/%d/%Y')\n",
        "\n",
        "# Check for missing values\n",
        "missing_values_summary = data.isnull().sum()\n",
        "print(missing_values_summary)\n",
        "\n",
        "# Handle missing values\n",
        "# Fill missing numeric values with the mean and categorical with 'Unknown'\n",
        "data['Age'].fillna(data['Age'].mean(), inplace=True)\n",
        "data['Referral source'].fillna('Unknown', inplace=True)\n",
        "data['MSI Marketing Source'].fillna('Unknown', inplace=True)\n",
        "data['Amount paid (XOF)'].fillna(0, inplace=True)\n",
        "\n",
        "# Check for duplicates and remove if any\n",
        "data.drop_duplicates(inplace=True)\n",
        "\n",
        "# Display the cleaned data\n",
        "data.head()"
      ],
      "metadata": {
        "id": "XO35Ez_pDBoz"
      },
      "execution_count": null,
      "outputs": []
    },
    {
      "cell_type": "markdown",
      "source": [
        "# **Step 3: Analysis for Question 1**"
      ],
      "metadata": {
        "id": "xVECv79OgZ7B"
      }
    },
    {
      "cell_type": "code",
      "source": [
        "# Filter data for adolescent clients (age 10-19)\n",
        "adolescent_clients = data[(data['Age'] >= 10) & (data['Age'] <= 19)]\n",
        "\n",
        "# Define the intervention period (January to April 2023)\n",
        "intervention_start = pd.Timestamp('2023-01-01')\n",
        "intervention_end = pd.Timestamp('2023-04-30')\n",
        "\n",
        "# Compare the number of adolescent clients before and during the intervention\n",
        "before_intervention = adolescent_clients[adolescent_clients['Date of visit'] < intervention_start].shape[0]\n",
        "during_intervention = adolescent_clients[(adolescent_clients['Date of visit'] >= intervention_start) & (adolescent_clients['Date of visit'] <= intervention_end)].shape[0]\n",
        "\n",
        "print(f\"Adolescent clients before intervention: {before_intervention}\")\n",
        "print(f\"Adolescent clients during intervention: {during_intervention}\")"
      ],
      "metadata": {
        "id": "LxKGei2gFZ9F"
      },
      "execution_count": null,
      "outputs": []
    },
    {
      "cell_type": "markdown",
      "source": [
        "# **Step 4: Analysis for Question 2**"
      ],
      "metadata": {
        "id": "ng_rgZycheNR"
      }
    },
    {
      "cell_type": "code",
      "source": [
        "# Define fee-paying clients as those with an amount paid greater than 0\n",
        "fee_paying_clients = data[data['Amount paid (XOF)'] > 0]\n",
        "\n",
        "# Compare the number of fee-paying clients before and during the intervention\n",
        "fee_paying_before = fee_paying_clients[fee_paying_clients['Date of visit'] < intervention_start].shape[0]\n",
        "fee_paying_during = fee_paying_clients[(fee_paying_clients['Date of visit'] >= intervention_start) & (fee_paying_clients['Date of visit'] <= intervention_end)].shape[0]\n",
        "\n",
        "# Analyze the referral source for fee-paying clients\n",
        "referral_sources_during = fee_paying_clients[(fee_paying_clients['Date of visit'] >= intervention_start) & (fee_paying_clients['Date of visit'] <= intervention_end)]['MSI Marketing Source'].value_counts()\n",
        "\n",
        "print(f\"Fee-paying clients before intervention: {fee_paying_before}\")\n",
        "print(f\"Fee-paying clients during intervention: {fee_paying_during}\")\n",
        "print(\"Referral sources during intervention:\")\n",
        "print(referral_sources_during)"
      ],
      "metadata": {
        "id": "gLKFBsK0GQ3E"
      },
      "execution_count": null,
      "outputs": []
    },
    {
      "cell_type": "markdown",
      "source": [
        "# **Step 5: Analysis for Question 3**"
      ],
      "metadata": {
        "id": "a50HTbg4h_B5"
      }
    },
    {
      "cell_type": "code",
      "source": [
        "# Filter data for clients in the central region\n",
        "central_region_clients = data[data['Region'] == 'Central Region']\n",
        "\n",
        "# Assuming long-term family planning methods are identified by specific keywords in 'FP service taken'\n",
        "long_term_methods = ['IUD', 'Implant']\n",
        "\n",
        "# Create a new column to identify long-term family planning methods\n",
        "central_region_clients['Long-term FP'] = central_region_clients['FP service taken'].apply(lambda x: any(method in x for method in long_term_methods))\n",
        "\n",
        "# Count the number of clients using long-term FP methods before and during the intervention\n",
        "long_term_before = central_region_clients[(central_region_clients['Date of visit'] < intervention_start) & (central_region_clients['Long-term FP'])].shape[0]\n",
        "long_term_during = central_region_clients[(central_region_clients['Date of visit'] >= intervention_start) & (central_region_clients['Date of visit'] <= intervention_end) & (central_region_clients['Long-term FP'])].shape[0]\n",
        "\n",
        "# Analyze the referral sources for these clients\n",
        "referral_sources_long_term_during = central_region_clients[(central_region_clients['Date of visit'] >= intervention_start) & (central_region_clients['Date of visit'] <= intervention_end) & (central_region_clients['Long-term FP'])]['MSI Marketing Source'].value_counts()\n",
        "\n",
        "print(f\"Clients using long-term FP methods before intervention: {long_term_before}\")\n",
        "print(f\"Clients using long-term FP methods during intervention: {long_term_during}\")\n",
        "print(\"Referral sources for long-term FP methods during intervention:\")\n",
        "print(referral_sources_long_term_during)"
      ],
      "metadata": {
        "id": "XK6FUJz3D-rC"
      },
      "execution_count": null,
      "outputs": []
    },
    {
      "cell_type": "markdown",
      "source": [
        "# **Summary of Key Findings**\n",
        "\n"
      ],
      "metadata": {
        "id": "5zSnkGdpie9d"
      }
    },
    {
      "cell_type": "code",
      "source": [
        "print(\"Summary of Key Findings:\")\n",
        "print(f\"Adolescent clients before intervention: {before_intervention}\")\n",
        "print(f\"Adolescent clients during intervention: {during_intervention}\")\n",
        "\n",
        "print(f\"Fee-paying clients before intervention: {fee_paying_before}\")\n",
        "print(f\"Fee-paying clients during intervention: {fee_paying_during}\")\n",
        "print(\"Referral sources for fee-paying clients during intervention:\")\n",
        "print(referral_sources_during)\n",
        "\n",
        "print(f\"Clients using long-term FP methods before intervention: {long_term_before}\")\n",
        "print(f\"Clients using long-term FP methods during intervention: {long_term_during}\")\n",
        "print(\"Referral sources for long-term FP methods during intervention:\")\n",
        "print(referral_sources_long_term_during)"
      ],
      "metadata": {
        "id": "0enE-kU9iePu"
      },
      "execution_count": null,
      "outputs": []
    },
    {
      "cell_type": "code",
      "source": [],
      "metadata": {
        "id": "FVUspyKD5VHp"
      },
      "execution_count": null,
      "outputs": []
    },
    {
      "cell_type": "markdown",
      "source": [
        "Practice with the dataset given"
      ],
      "metadata": {
        "id": "6ZQdAmdq54xr"
      }
    }
  ]
}